{
 "cells": [
  {
   "cell_type": "markdown",
   "id": "b6ccd67a-b906-4960-a584-4e00acaca820",
   "metadata": {},
   "source": [
    "# Figure 2: Identification of sites with differential tolerance."
   ]
  },
  {
   "cell_type": "code",
   "execution_count": 1,
   "id": "dd8f3531-f58a-4a5f-8696-a949f81a140a",
   "metadata": {},
   "outputs": [],
   "source": [
    "import paths\n",
    "import pandas as pd\n",
    "import numpy as np\n",
    "import matplotlib.pyplot as plt\n",
    "import seaborn as sns"
   ]
  },
  {
   "cell_type": "markdown",
   "id": "b8129dc0-d5d0-48de-9389-cc8f2de7f2a9",
   "metadata": {},
   "source": [
    "### Genome-wide del_sub data can be downloaded from huggingface app "
   ]
  },
  {
   "cell_type": "code",
   "execution_count": 2,
   "id": "cda388da-2e73-40e7-83b2-d3337b31f8bd",
   "metadata": {},
   "outputs": [
    {
     "name": "stderr",
     "output_type": "stream",
     "text": [
      "/home/grant/anaconda3/envs/diff-tol/lib/python3.12/site-packages/pandas/core/arraylike.py:399: RuntimeWarning: divide by zero encountered in log10\n",
      "  result = getattr(ufunc, method)(*inputs, **kwargs)\n"
     ]
    }
   ],
   "source": [
    "del_sub = pd.read_csv(paths.DEL_SUB).assign(aPLLR=lambda x: np.abs(x.PLLR))[[\"site\", \"prot\", \"aPLLR\", \"avg_LLR\"]]\n",
    "del_sub[\"log_aPLLR\"] = -np.log10(del_sub.aPLLR)"
   ]
  },
  {
   "cell_type": "markdown",
   "id": "fc05096e-3196-42c4-a65b-541810b5a7c9",
   "metadata": {},
   "source": [
    "## Figure A"
   ]
  },
  {
   "cell_type": "markdown",
   "id": "14b8d022-2080-42f5-861a-0d3ae594f5e0",
   "metadata": {},
   "source": [
    "### Extract ClinVar summary statistics "
   ]
  },
  {
   "cell_type": "code",
   "execution_count": 3,
   "id": "f8f71c6f-08f2-43f1-a13c-8d8d44678a5f",
   "metadata": {},
   "outputs": [],
   "source": [
    "benign_dels_sumstats = -pd.read_csv(\"https://raw.githubusercontent.com/ntranoslab/esm-variants/main/benchmarks/ClinVar_indel_benchmark_with_predictions.csv\", index_col=0)\\\n",
    "                         .query('label==0').query('mut_type==\"deletion\"').ESM1b_PLL.apply(np.abs).apply(np.log10).describe()\n",
    "pathogenic_dels_sumstats = -pd.read_csv(\"https://raw.githubusercontent.com/ntranoslab/esm-variants/main/benchmarks/ClinVar_indel_benchmark_with_predictions.csv\", index_col=0)\\\n",
    "                             .query('label==1').query('mut_type==\"deletion\"').ESM1b_PLL.apply(np.abs).apply(np.log10).describe()\n",
    "benign_subs_sumstats =  pd.read_csv(\"https://raw.githubusercontent.com/ntranoslab/esm-variants/main/benchmarks/ClinVar_gnomAD_benchmark_with_predictions.csv\")\\\n",
    "                          .dropna(subset=[\"clinvar_label\"]).query('clinvar_label==0').ESM1b_score.describe()\n",
    "pathogenic_subs_sumstats =  pd.read_csv(\"https://raw.githubusercontent.com/ntranoslab/esm-variants/main/benchmarks/ClinVar_gnomAD_benchmark_with_predictions.csv\")\\\n",
    "                              .dropna(subset=[\"clinvar_label\"]).query('clinvar_label==1').ESM1b_score.describe()"
   ]
  },
  {
   "cell_type": "markdown",
   "id": "c261aab0-caf7-4cb0-b664-792561b2215b",
   "metadata": {},
   "source": [
    "### Extract differentially tolerant sites"
   ]
  },
  {
   "cell_type": "code",
   "execution_count": 4,
   "id": "9fde64be-8b85-48d9-8346-d5e699e09039",
   "metadata": {},
   "outputs": [],
   "source": [
    "cutoff=25\n",
    "del_tol, del_intol = np.percentile(del_sub.aPLLR, cutoff), np.percentile(del_sub.aPLLR, 100-cutoff)\n",
    "sub_intol, sub_tol = np.percentile(del_sub.avg_LLR, cutoff), np.percentile(del_sub.avg_LLR, 100-cutoff)"
   ]
  },
  {
   "cell_type": "code",
   "execution_count": 5,
   "id": "6e8151ec-f7f6-45af-9110-f9ec29ea60f3",
   "metadata": {},
   "outputs": [],
   "source": [
    "del_intol_sub_tol = del_sub[(del_sub.aPLLR > del_intol) & (del_sub.avg_LLR > sub_tol)]\n",
    "del_tol_sub_intol = del_sub[(del_sub.aPLLR < del_tol) & (del_sub.avg_LLR < sub_intol)]"
   ]
  },
  {
   "cell_type": "code",
   "execution_count": null,
   "id": "ce083ab8-5381-462e-ba91-500ec458006a",
   "metadata": {},
   "outputs": [
    {
     "name": "stderr",
     "output_type": "stream",
     "text": [
      "/home/grant/anaconda3/envs/diff-tol/lib/python3.12/site-packages/seaborn/_oldcore.py:1119: FutureWarning: use_inf_as_na option is deprecated and will be removed in a future version. Convert inf values to NaN before operating instead.\n",
      "  with pd.option_context('mode.use_inf_as_na', True):\n",
      "/home/grant/anaconda3/envs/diff-tol/lib/python3.12/site-packages/seaborn/_oldcore.py:1119: FutureWarning: use_inf_as_na option is deprecated and will be removed in a future version. Convert inf values to NaN before operating instead.\n",
      "  with pd.option_context('mode.use_inf_as_na', True):\n"
     ]
    }
   ],
   "source": [
    "# remove this uniprot ID from visualization\n",
    "plot_data = del_sub[del_sub.prot != \"Q156A1\"]\n",
    "\n",
    "num_bins=800\n",
    "# plot full dataset\n",
    "joint = sns.jointplot(data=plot_data, x='log_aPLLR', y=\"avg_LLR\", color=\"darkslateblue\", s=1, edgecolor='none',\n",
    "                      marginal_kws=dict(bins=num_bins, edgecolor='none', color=\"grey\", stat=\"density\"))\n",
    "\n",
    "# Add in percentile data\n",
    "plt.axvline(-np.log10(del_tol), color=\"black\")\n",
    "plt.axvline(-np.log10(del_tol), color=\"black\")\n",
    "plt.axhline(sub_intol, color=\"black\")\n",
    "plt.axhline(sub_tol, color=\"black\", label=f\"{cutoff}th/{100-cutoff}th\\nPercentile\")\n",
    "\n",
    "# plot differentially tolerant sites\n",
    "sns.scatterplot(x=-np.log10(del_tol_sub_intol.query('prot!=\"Q156A1\"').aPLLR), y=del_tol_sub_intol.query('prot!=\"Q156A1\"').avg_LLR, color=\"green\", s=1, edgecolor='none')\n",
    "sns.scatterplot(x=-np.log10(del_intol_sub_tol.query('prot!=\"Q156A1\"').aPLLR), y=del_intol_sub_tol.query('prot!=\"Q156A1\"').avg_LLR, color=\"red\", s=1, edgecolor='none')\n",
    "\n",
    "####\n",
    "# Marginal distributions with ClinVar median scores\n",
    "ax_joint = joint.ax_joint\n",
    "ax_marg_x = joint.ax_marg_x\n",
    "ax_marg_y = joint.ax_marg_y\n",
    "\n",
    "ax_marg_x.axvline(x=benign_dels_sumstats[\"50%\"], color=\"green\", lw=2)\n",
    "ax_marg_x.axvline(x=pathogenic_dels_sumstats[\"50%\"], color=\"red\", lw=2)\n",
    "ax_marg_x.hist(x=plot_data.log_aPLLR[plot_data.log_aPLLR != np.inf], histtype=\"step\", color=\"black\", bins=num_bins, density=True)\n",
    "ax_marg_x.text(benign_dels_sumstats[\"50%\"]+.8, 0.25, \"Median ESM\\nBenign Dels\", color=\"green\", weight=\"bold\")\n",
    "ax_marg_x.text(pathogenic_dels_sumstats[\"50%\"]-2.1, 0.25, \"Median ESM\\nPathogenic\\nDels\", color=\"red\", weight=\"bold\")\n",
    "\n",
    "ax_marg_y.axhline(y=benign_subs_sumstats[\"50%\"], color=\"green\", lw=2)\n",
    "ax_marg_y.axhline(y=pathogenic_subs_sumstats[\"50%\"], color=\"red\", lw=2)\n",
    "ax_marg_y.hist(x=plot_data.avg_LLR, histtype=\"step\", color=\"black\", orientation='horizontal', bins=num_bins, density=True)\n",
    "ax_marg_y.text(0.02, benign_subs_sumstats[\"50%\"]+3.2, \"Median\\nESM\\nBenign\\nSubs\", color=\"green\", weight=\"bold\")\n",
    "ax_marg_y.text(0.02, pathogenic_subs_sumstats[\"50%\"]-10, \"Median\\nESM\\nPathogenic\\nSubs\", color=\"red\", weight=\"bold\")\n",
    "####\n",
    "\n",
    "# Annotations, labels, etc\n",
    "plt.xlabel(\"Deletion Score\", size=15)\n",
    "plt.ylabel(\"Substitution Score\", size=15)\n",
    "\n",
    "plt.ylim(-27, 7)\n",
    "plt.xlim(-3.7, 6.3)\n",
    "\n",
    "_=plt.text(3.5, -25, r'D$^+$S$^-$'+f\"\\nN\" + r'$\\approx$' + f\"{int(np.round(del_tol_sub_intol.shape[0] / 1000, 1))}k\", color=\"green\", size=15, weight=\"bold\")\n",
    "_=plt.text(-3.4, .5, r'D$^-$S$^+$'+f\"\\nN\" r'$\\approx$' + f\"{int(np.round(del_intol_sub_tol.shape[0] / 1000, 1))}k\", color=\"red\", size=15, weight=\"bold\") \n",
    "plt.legend(loc=\"upper right\", frameon=False, fontsize=13)\n",
    "\n",
    "_=plt.xticks(size=12)\n",
    "_=plt.yticks(size=12)\n",
    "\n",
    "joint.fig.set_figwidth(4.7*1.8)\n",
    "joint.fig.set_figheight(3.53*1.7)"
   ]
  },
  {
   "cell_type": "markdown",
   "id": "fcb0e9f6-aae7-42e9-9027-fb706a569e1c",
   "metadata": {},
   "source": [
    "## Figure B"
   ]
  },
  {
   "cell_type": "markdown",
   "id": "2395ffb2-9a5b-4b17-817c-09ae7572d96e",
   "metadata": {},
   "source": [
    "### Process domain data from UniProt: Domain [FT] column from https://www.uniprot.org/uniprotkb?query=Human&facets=reviewed%3Atrue%2Cmodel_organism%3A9606"
   ]
  },
  {
   "cell_type": "code",
   "execution_count": null,
   "id": "e6183fa8-7544-45e4-abd0-41177e58a39b",
   "metadata": {},
   "outputs": [],
   "source": [
    "domains = pd.read_csv(paths.DOMAINS, sep=\"\\t\", usecols=[\"Entry\", \"Domain [FT]\"]).rename(columns={\"Domain [FT]\": \"domain\"}).dropna(subset=\"domain\")\n",
    "\n",
    "# pivot data so each row contains one protein-domain pair\n",
    "domains = domains[[\"Entry\"]].join(domains.domain.str.split(\"DOMAIN \").apply(lambda x: x[1:])).explode(\"domain\") \n",
    "\n",
    "# extract domain boundaries\n",
    "domains[\"domain_start\"] = domains.domain.str.split(\";\", expand=True)[0].str.split(\".\", expand=True)[0].astype(int)\n",
    "domains[\"domain_end\"] = domains.domain.str.split(\";\", expand=True)[0].str.split(\".\", expand=True)[2].apply(lambda x: ''.join(c for c in x if c.isnumeric())).astype(int)\n",
    "domains = domains[[\"Entry\", \"domain_start\", \"domain_end\"]]"
   ]
  },
  {
   "cell_type": "code",
   "execution_count": null,
   "id": "9707b866-79c8-4fe9-b8e3-1fb8f1a22122",
   "metadata": {},
   "outputs": [],
   "source": [
    "esm_domains = del_sub.assign(pos=lambda x: x.site.str[1:].astype(int))\\\n",
    "                             .merge(domains, left_on=\"prot\", right_on=\"Entry\")\\\n",
    "                             .query('pos >= domain_start').query('pos <= domain_end')"
   ]
  },
  {
   "cell_type": "markdown",
   "id": "77294f77-55ec-47c8-8a99-41146399a6cd",
   "metadata": {},
   "source": [
    "## Extract differentially tolerant sites conditional on being in a domain"
   ]
  },
  {
   "cell_type": "code",
   "execution_count": null,
   "id": "08bc16e9-3d69-422d-8d30-528441dc28f8",
   "metadata": {},
   "outputs": [],
   "source": [
    "ed_del_tol = np.percentile(esm_domains.aPLLR, 25)\n",
    "ed_del_intol = np.percentile(esm_domains.aPLLR, 75)\n",
    "ed_sub_tol = np.percentile(esm_domains.avg_LLR, 75)\n",
    "ed_sub_intol = np.percentile(esm_domains.avg_LLR, 25)\n",
    "\n",
    "ed_del_tol_sub_intol = esm_domains[(esm_domains.aPLLR < ed_del_tol) & (esm_domains.avg_LLR < ed_sub_intol)]\n",
    "ed_del_intol_sub_tol = esm_domains[(esm_domains.aPLLR > ed_del_intol) & (esm_domains.avg_LLR > ed_sub_tol)]"
   ]
  },
  {
   "cell_type": "markdown",
   "id": "d82db0a2-7791-46ba-9b87-ee0a2473c7d1",
   "metadata": {},
   "source": [
    "## Tsuboyama differential tolerance"
   ]
  },
  {
   "cell_type": "code",
   "execution_count": null,
   "id": "d15fc552-fe7e-45d1-8f1f-37dc85edaf00",
   "metadata": {},
   "outputs": [],
   "source": [
    "tsuboyama = pd.read_csv(\"../data/tsuboyama_ddg.csv\")"
   ]
  },
  {
   "cell_type": "code",
   "execution_count": null,
   "id": "c6ca7991-b7f8-47d7-942d-877358c9dee9",
   "metadata": {},
   "outputs": [],
   "source": [
    "sub_tol_ddg, sub_intol_ddg = np.percentile(tsuboyama.ddG_ML_avg_subs, 75), np.percentile(tsuboyama.ddG_ML_avg_subs, 25)\n",
    "del_tol_ddg, del_intol_ddg = np.percentile(tsuboyama.ddG_ML_dels, 75), np.percentile(tsuboyama.ddG_ML_dels, 25)"
   ]
  },
  {
   "cell_type": "code",
   "execution_count": null,
   "id": "0f830c8c-1ff3-49c8-b2b8-6fe9f2558e14",
   "metadata": {},
   "outputs": [],
   "source": [
    "del_intol_sub_tol_ddg = tsuboyama[(tsuboyama.ddG_ML_dels < del_intol_ddg) & (tsuboyama.ddG_ML_avg_subs > sub_tol_ddg)]\n",
    "del_tol_sub_intol_ddg = tsuboyama[(tsuboyama.ddG_ML_dels > del_tol_ddg) & (tsuboyama.ddG_ML_avg_subs < sub_intol_ddg)]"
   ]
  },
  {
   "cell_type": "markdown",
   "id": "89cd7849-d396-48eb-977b-deff1593b23c",
   "metadata": {},
   "source": [
    "## Prepare data to plot"
   ]
  },
  {
   "cell_type": "code",
   "execution_count": null,
   "id": "6abf3644-6c95-43f8-a92a-76032cc6389e",
   "metadata": {},
   "outputs": [],
   "source": [
    "esm_data = [del_intol_sub_tol.shape[0] / del_sub.shape[0],\n",
    "            del_tol_sub_intol.shape[0]/del_sub.shape[0]]\n",
    "esm_data.append(1-sum(esm_data))\n",
    "\n",
    "esm_domain_data = [ed_del_intol_sub_tol.shape[0]/esm_domains.shape[0], ed_del_tol_sub_intol.shape[0]/esm_domains.shape[0]]\n",
    "esm_domain_data.append(1-sum(esm_domain_data))\n",
    "                   \n",
    "    \n",
    "tsuboyama_data = [del_intol_sub_tol_ddg.shape[0] / tsuboyama.shape[0], del_tol_sub_intol_ddg.shape[0] / tsuboyama.shape[0]]\n",
    "tsuboyama_data.append(1-sum(tsuboyama_data))"
   ]
  },
  {
   "cell_type": "code",
   "execution_count": null,
   "id": "d31a64df-92b5-4c81-83b7-4d4dd3092b49",
   "metadata": {},
   "outputs": [],
   "source": [
    "# Sample data\n",
    "data = {\n",
    "    'Group 1': esm_data,\n",
    "    'Group 2': esm_domain_data,\n",
    "    'Group 3': tsuboyama_data\n",
    "}\n",
    "index = [r'D$^-$S$^+$', r'D$^+$S$^-$', \"No Differential\\nTolerance\"]\n",
    "df = pd.DataFrame(data, index=index)\n",
    "\n",
    "\n",
    "# Create the figure and subplots\n",
    "fig, (ax1, ax2) = plt.subplots(2, 1, sharex=True, figsize=(7, 7))\n",
    "\n",
    "# Hide spines and adjust limits\n",
    "ax1.spines['bottom'].set_visible(False)\n",
    "ax1.tick_params(axis='x', which='both', bottom=False)\n",
    "ax1.spines['top'].set_visible(False)\n",
    "ax1.spines['right'].set_visible(False)\n",
    "ax2.spines['top'].set_visible(False)\n",
    "ax2.spines['right'].set_visible(False)\n",
    "ax2.set_ylim(0, 0.03) # lower range of y axis\n",
    "ax1.set_ylim(0.95, 1) # upper range of y axis\n",
    "\n",
    "yrange2 = np.arange(0, 0.07, step=0.02)\n",
    "ax2.set_yticks(yrange2, [f\"{int(x*100)}%\" for x in yrange2[0:-1]] + [\"\"], size=12)\n",
    "yrange1 = np.arange(0.94, 1, step=0.02)\n",
    "ax1.set_yticks(yrange1, [\"\"] + [f\"{int(x*100)}%\" for x in yrange1[1:]], size=12)\n",
    "\n",
    "# Plot grouped bar plots\n",
    "bar_width = 0.2\n",
    "index = np.arange(len(df))\n",
    "\n",
    "x = np.arange(3)  # the label locations\n",
    "x1 = x - bar_width\n",
    "x2 = x\n",
    "x3 = x + bar_width\n",
    "\n",
    "ax1.bar(x1, df['Group 1'], bar_width, color=\"navy\",\n",
    "        label='ESM (Genome-Wide)\\n' + r'N$\\approx$' + f\"{str(int(del_sub.shape[0] / 1000000)) + \"M\"}\")\n",
    "ax1.bar(x2, df['Group 2'], bar_width, color=\"royalblue\",\n",
    "        label=\"ESM (Domains Only)\\n\" + r'N$\\approx$' + f\"{str(int(esm_domains.shape[0] / 1000000)) + \"M\"}\")\n",
    "ax1.bar(x3, df['Group 3'], bar_width, color=\"lightsteelblue\",\n",
    "        label=r'$\\Delta\\Delta$G (Domains Only)' + \"\\n\" + r'N$\\approx$' + f\"{str(round(tsuboyama.shape[0] / 1000, 1))}\" + \"K\")\n",
    "\n",
    "ax2.bar(x1, df['Group 1'], bar_width, color=[\"navy\", \"navy\", \"navy\"])\n",
    "ax2.bar(x2, df['Group 2'], bar_width, color=[\"royalblue\", \"royalblue\", \"royalblue\"])\n",
    "ax2.bar(x3, df['Group 3'], bar_width, color=[\"lightsteelblue\", \"lightsteelblue\", \"lightsteelblue\"])\n",
    "\n",
    "[\"navy\", \"royalblue\", \"lightsteelblue\"]\n",
    "\n",
    "# Add line breaks\n",
    "d = .015\n",
    "kwargs = dict(transform=ax1.transAxes, color='k', clip_on=False)\n",
    "ax1.plot((-d, +d), (-d, +d), **kwargs)\n",
    "kwargs.update(transform=ax2.transAxes)\n",
    "ax2.plot((-d, +d), (1 - d, 1 + d), **kwargs)\n",
    "\n",
    "# Customize plot\n",
    "ax2.set_xticks(index)\n",
    "ax2.set_xticklabels(df.index, size=15)\n",
    "\n",
    "ax1.set_ylabel(\"Percent of Data\", size=15)\n",
    "ax1.yaxis.set_label_coords(-0.15, 0)\n",
    "\n",
    "ax1.legend(loc=\"upper left\", frameon=False, fontsize=15)\n",
    "\n",
    "plt.tight_layout()"
   ]
  }
 ],
 "metadata": {
  "kernelspec": {
   "display_name": "diff-tol",
   "language": "python",
   "name": "diff-tol"
  },
  "language_info": {
   "codemirror_mode": {
    "name": "ipython",
    "version": 3
   },
   "file_extension": ".py",
   "mimetype": "text/x-python",
   "name": "python",
   "nbconvert_exporter": "python",
   "pygments_lexer": "ipython3",
   "version": "3.12.2"
  }
 },
 "nbformat": 4,
 "nbformat_minor": 5
}
