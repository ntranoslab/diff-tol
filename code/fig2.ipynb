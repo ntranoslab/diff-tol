{
 "cells": [
  {
   "cell_type": "markdown",
   "id": "b6ccd67a-b906-4960-a584-4e00acaca820",
   "metadata": {},
   "source": [
    "## Figure 2 of paper"
   ]
  },
  {
   "cell_type": "code",
   "execution_count": null,
   "id": "dd8f3531-f58a-4a5f-8696-a949f81a140a",
   "metadata": {},
   "outputs": [],
   "source": []
  }
 ],
 "metadata": {
  "kernelspec": {
   "display_name": "diff-tol",
   "language": "python",
   "name": "diff-tol"
  },
  "language_info": {
   "codemirror_mode": {
    "name": "ipython",
    "version": 3
   },
   "file_extension": ".py",
   "mimetype": "text/x-python",
   "name": "python",
   "nbconvert_exporter": "python",
   "pygments_lexer": "ipython3",
   "version": "3.12.2"
  }
 },
 "nbformat": 4,
 "nbformat_minor": 5
}
